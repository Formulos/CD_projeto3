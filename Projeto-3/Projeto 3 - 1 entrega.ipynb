{
 "cells": [
  {
   "cell_type": "code",
   "execution_count": 12,
   "metadata": {
    "collapsed": true
   },
   "outputs": [],
   "source": [
    "%matplotlib inline\n",
    "import pandas as pd\n",
    "import matplotlib.pyplot as plt\n",
    "import os\n",
    "import numpy as np\n",
    "import statsmodels.api as sm"
   ]
  },
  {
   "cell_type": "code",
   "execution_count": 13,
   "metadata": {
    "collapsed": false
   },
   "outputs": [
    {
     "name": "stdout",
     "output_type": "stream",
     "text": [
      "Esperamos trabalhar no diretório\n",
      "C:\\Users\\Paulo\\Documents\\GitHub\\CD_projeto3\\Projeto-3\n"
     ]
    }
   ],
   "source": [
    "print('Esperamos trabalhar no diretório')\n",
    "print(os.getcwd())"
   ]
  },
  {
   "cell_type": "code",
   "execution_count": 14,
   "metadata": {
    "collapsed": false
   },
   "outputs": [],
   "source": [
    "def minimos_quadrados(x,y):\n",
    "    \n",
    "    x = sm.add_constant(x)\n",
    "    est = sm.OLS(y, x)\n",
    "    est = est.fit()\n",
    "\n",
    "    X_prime = np.linspace(desemprego.Desemprego.min(), desemprego.Desemprego.max(), 1000)[:, np.newaxis]\n",
    "    X_prime = sm.add_constant(X_prime)  # add constant as we did before\n",
    "    y_hat = est.predict(X_prime)\n",
    "    \n",
    "    return X_prime,y_hat"
   ]
  },
  {
   "cell_type": "code",
   "execution_count": 15,
   "metadata": {
    "collapsed": false
   },
   "outputs": [],
   "source": [
    "desemprego = pd.read_excel('desemprego.xlsx') #Taxa de desemprego ao longo do tempo\n",
    "cellphone = pd.read_excel('cellphone.xlsx') #Número de celulares/100 pessoas\n",
    "child = pd.read_excel('child_mortality.xlsx') #Crianças mortas de 0-5 anos/ 1000 crianças nascidas\n",
    "\n",
    "# Todos os dados são referentes ao ano de 2004"
   ]
  },
  {
   "cell_type": "code",
   "execution_count": 16,
   "metadata": {
    "collapsed": false
   },
   "outputs": [
    {
     "data": {
      "text/html": [
       "<div>\n",
       "<table border=\"1\" class=\"dataframe\">\n",
       "  <thead>\n",
       "    <tr style=\"text-align: right;\">\n",
       "      <th></th>\n",
       "      <th>Paises</th>\n",
       "      <th>Desemprego</th>\n",
       "    </tr>\n",
       "  </thead>\n",
       "  <tbody>\n",
       "    <tr>\n",
       "      <th>0</th>\n",
       "      <td>Australia</td>\n",
       "      <td>5.5</td>\n",
       "    </tr>\n",
       "    <tr>\n",
       "      <th>1</th>\n",
       "      <td>Canada</td>\n",
       "      <td>7.2</td>\n",
       "    </tr>\n",
       "    <tr>\n",
       "      <th>2</th>\n",
       "      <td>Czech Republic</td>\n",
       "      <td>8.3</td>\n",
       "    </tr>\n",
       "    <tr>\n",
       "      <th>3</th>\n",
       "      <td>Estonia</td>\n",
       "      <td>9.5</td>\n",
       "    </tr>\n",
       "    <tr>\n",
       "      <th>4</th>\n",
       "      <td>Finland</td>\n",
       "      <td>8.8</td>\n",
       "    </tr>\n",
       "  </tbody>\n",
       "</table>\n",
       "</div>"
      ],
      "text/plain": [
       "           Paises  Desemprego\n",
       "0       Australia         5.5\n",
       "1          Canada         7.2\n",
       "2  Czech Republic         8.3\n",
       "3         Estonia         9.5\n",
       "4         Finland         8.8"
      ]
     },
     "execution_count": 16,
     "metadata": {},
     "output_type": "execute_result"
    }
   ],
   "source": [
    "desemprego.head()\n"
   ]
  },
  {
   "cell_type": "code",
   "execution_count": 17,
   "metadata": {
    "collapsed": false
   },
   "outputs": [
    {
     "data": {
      "text/html": [
       "<div>\n",
       "<table border=\"1\" class=\"dataframe\">\n",
       "  <thead>\n",
       "    <tr style=\"text-align: right;\">\n",
       "      <th></th>\n",
       "      <th>Paises</th>\n",
       "      <th>Número_de_celulares</th>\n",
       "    </tr>\n",
       "  </thead>\n",
       "  <tbody>\n",
       "    <tr>\n",
       "      <th>0</th>\n",
       "      <td>Afghanistan</td>\n",
       "      <td>2.247739</td>\n",
       "    </tr>\n",
       "    <tr>\n",
       "      <th>1</th>\n",
       "      <td>Albania</td>\n",
       "      <td>40.308673</td>\n",
       "    </tr>\n",
       "    <tr>\n",
       "      <th>2</th>\n",
       "      <td>Algeria</td>\n",
       "      <td>15.071017</td>\n",
       "    </tr>\n",
       "    <tr>\n",
       "      <th>3</th>\n",
       "      <td>American Samoa</td>\n",
       "      <td>3.636599</td>\n",
       "    </tr>\n",
       "    <tr>\n",
       "      <th>4</th>\n",
       "      <td>Andorra</td>\n",
       "      <td>77.519524</td>\n",
       "    </tr>\n",
       "  </tbody>\n",
       "</table>\n",
       "</div>"
      ],
      "text/plain": [
       "           Paises  Número_de_celulares\n",
       "0     Afghanistan             2.247739\n",
       "1         Albania            40.308673\n",
       "2         Algeria            15.071017\n",
       "3  American Samoa             3.636599\n",
       "4         Andorra            77.519524"
      ]
     },
     "execution_count": 17,
     "metadata": {},
     "output_type": "execute_result"
    }
   ],
   "source": [
    "cellphone.head()\n"
   ]
  },
  {
   "cell_type": "code",
   "execution_count": 18,
   "metadata": {
    "collapsed": false
   },
   "outputs": [
    {
     "data": {
      "text/html": [
       "<div>\n",
       "<table border=\"1\" class=\"dataframe\">\n",
       "  <thead>\n",
       "    <tr style=\"text-align: right;\">\n",
       "      <th></th>\n",
       "      <th>Paises</th>\n",
       "      <th>Mortalidade_Infantil</th>\n",
       "    </tr>\n",
       "  </thead>\n",
       "  <tbody>\n",
       "    <tr>\n",
       "      <th>0</th>\n",
       "      <td>Afghanistan</td>\n",
       "      <td>123.2</td>\n",
       "    </tr>\n",
       "    <tr>\n",
       "      <th>1</th>\n",
       "      <td>Albania</td>\n",
       "      <td>21.5</td>\n",
       "    </tr>\n",
       "    <tr>\n",
       "      <th>2</th>\n",
       "      <td>Algeria</td>\n",
       "      <td>35.1</td>\n",
       "    </tr>\n",
       "    <tr>\n",
       "      <th>3</th>\n",
       "      <td>Andorra</td>\n",
       "      <td>4.0</td>\n",
       "    </tr>\n",
       "    <tr>\n",
       "      <th>4</th>\n",
       "      <td>Angola</td>\n",
       "      <td>206.7</td>\n",
       "    </tr>\n",
       "  </tbody>\n",
       "</table>\n",
       "</div>"
      ],
      "text/plain": [
       "        Paises  Mortalidade_Infantil\n",
       "0  Afghanistan                 123.2\n",
       "1      Albania                  21.5\n",
       "2      Algeria                  35.1\n",
       "3      Andorra                   4.0\n",
       "4       Angola                 206.7"
      ]
     },
     "execution_count": 18,
     "metadata": {},
     "output_type": "execute_result"
    }
   ],
   "source": [
    "child.head()"
   ]
  },
  {
   "cell_type": "code",
   "execution_count": 19,
   "metadata": {
    "collapsed": false
   },
   "outputs": [],
   "source": [
    "Data_Total = pd.DataFrame()\n",
    "desemprego_dados = list(desemprego.Paises)\n",
    "mort = []\n",
    "celulares = []\n",
    "for element in range(len(child.Paises)):    \n",
    "    if child.Paises[element] in desemprego_dados:\n",
    "        mort.append(child.Mortalidade_Infantil[element])\n",
    "for element in range(len(cellphone.Paises)):    \n",
    "    if cellphone.Paises[element] in desemprego_dados:\n",
    "        celulares.append(cellphone.Número_de_celulares[element])        \n",
    "        \n",
    "Data_Total[\"Paises\"] = desemprego.Paises  \n",
    "Data_Total[\"Desemprego\"] = desemprego.Desemprego  \n",
    "Data_Total[\"Mortalidade Infantil\"] = mort        \n",
    "Data_Total[\"Número de Celulares\"] = celulares\n"
   ]
  },
  {
   "cell_type": "code",
   "execution_count": 20,
   "metadata": {
    "collapsed": false
   },
   "outputs": [
    {
     "data": {
      "text/html": [
       "<div>\n",
       "<table border=\"1\" class=\"dataframe\">\n",
       "  <thead>\n",
       "    <tr style=\"text-align: right;\">\n",
       "      <th></th>\n",
       "      <th>Paises</th>\n",
       "      <th>Desemprego</th>\n",
       "      <th>Mortalidade Infantil</th>\n",
       "      <th>Número de Celulares</th>\n",
       "    </tr>\n",
       "  </thead>\n",
       "  <tbody>\n",
       "    <tr>\n",
       "      <th>0</th>\n",
       "      <td>Australia</td>\n",
       "      <td>5.5</td>\n",
       "      <td>5.9</td>\n",
       "      <td>81.974462</td>\n",
       "    </tr>\n",
       "    <tr>\n",
       "      <th>1</th>\n",
       "      <td>Canada</td>\n",
       "      <td>7.2</td>\n",
       "      <td>6.1</td>\n",
       "      <td>47.020366</td>\n",
       "    </tr>\n",
       "    <tr>\n",
       "      <th>2</th>\n",
       "      <td>Czech Republic</td>\n",
       "      <td>8.3</td>\n",
       "      <td>26.3</td>\n",
       "      <td>25.744758</td>\n",
       "    </tr>\n",
       "    <tr>\n",
       "      <th>3</th>\n",
       "      <td>Estonia</td>\n",
       "      <td>9.5</td>\n",
       "      <td>5.5</td>\n",
       "      <td>105.694188</td>\n",
       "    </tr>\n",
       "    <tr>\n",
       "      <th>4</th>\n",
       "      <td>Finland</td>\n",
       "      <td>8.8</td>\n",
       "      <td>7.9</td>\n",
       "      <td>93.124100</td>\n",
       "    </tr>\n",
       "    <tr>\n",
       "      <th>5</th>\n",
       "      <td>France</td>\n",
       "      <td>10.0</td>\n",
       "      <td>3.9</td>\n",
       "      <td>95.444624</td>\n",
       "    </tr>\n",
       "    <tr>\n",
       "      <th>6</th>\n",
       "      <td>Germany</td>\n",
       "      <td>11.0</td>\n",
       "      <td>4.7</td>\n",
       "      <td>73.508964</td>\n",
       "    </tr>\n",
       "    <tr>\n",
       "      <th>7</th>\n",
       "      <td>China</td>\n",
       "      <td>6.8</td>\n",
       "      <td>4.9</td>\n",
       "      <td>86.425408</td>\n",
       "    </tr>\n",
       "    <tr>\n",
       "      <th>8</th>\n",
       "      <td>Ireland</td>\n",
       "      <td>4.4</td>\n",
       "      <td>5.6</td>\n",
       "      <td>94.476410</td>\n",
       "    </tr>\n",
       "    <tr>\n",
       "      <th>9</th>\n",
       "      <td>Japan</td>\n",
       "      <td>4.7</td>\n",
       "      <td>3.9</td>\n",
       "      <td>72.426306</td>\n",
       "    </tr>\n",
       "    <tr>\n",
       "      <th>10</th>\n",
       "      <td>South Korea</td>\n",
       "      <td>3.6</td>\n",
       "      <td>6.0</td>\n",
       "      <td>78.124078</td>\n",
       "    </tr>\n",
       "    <tr>\n",
       "      <th>11</th>\n",
       "      <td>Latvia</td>\n",
       "      <td>10.5</td>\n",
       "      <td>13.4</td>\n",
       "      <td>66.259606</td>\n",
       "    </tr>\n",
       "    <tr>\n",
       "      <th>12</th>\n",
       "      <td>Lithuania</td>\n",
       "      <td>11.3</td>\n",
       "      <td>10.3</td>\n",
       "      <td>88.901709</td>\n",
       "    </tr>\n",
       "    <tr>\n",
       "      <th>13</th>\n",
       "      <td>Netherlands</td>\n",
       "      <td>5.1</td>\n",
       "      <td>5.6</td>\n",
       "      <td>91.216746</td>\n",
       "    </tr>\n",
       "    <tr>\n",
       "      <th>14</th>\n",
       "      <td>New Zealand</td>\n",
       "      <td>3.9</td>\n",
       "      <td>6.7</td>\n",
       "      <td>74.207000</td>\n",
       "    </tr>\n",
       "    <tr>\n",
       "      <th>15</th>\n",
       "      <td>Norway</td>\n",
       "      <td>4.5</td>\n",
       "      <td>4.2</td>\n",
       "      <td>98.641915</td>\n",
       "    </tr>\n",
       "    <tr>\n",
       "      <th>16</th>\n",
       "      <td>Philippines</td>\n",
       "      <td>9.3</td>\n",
       "      <td>36.5</td>\n",
       "      <td>39.238945</td>\n",
       "    </tr>\n",
       "    <tr>\n",
       "      <th>17</th>\n",
       "      <td>Poland</td>\n",
       "      <td>18.9</td>\n",
       "      <td>7.8</td>\n",
       "      <td>60.500285</td>\n",
       "    </tr>\n",
       "    <tr>\n",
       "      <th>18</th>\n",
       "      <td>Portugal</td>\n",
       "      <td>6.6</td>\n",
       "      <td>5.1</td>\n",
       "      <td>100.617223</td>\n",
       "    </tr>\n",
       "    <tr>\n",
       "      <th>19</th>\n",
       "      <td>Romania</td>\n",
       "      <td>8.4</td>\n",
       "      <td>22.4</td>\n",
       "      <td>46.762484</td>\n",
       "    </tr>\n",
       "    <tr>\n",
       "      <th>20</th>\n",
       "      <td>Singapore</td>\n",
       "      <td>4.8</td>\n",
       "      <td>3.0</td>\n",
       "      <td>95.926645</td>\n",
       "    </tr>\n",
       "    <tr>\n",
       "      <th>21</th>\n",
       "      <td>Slovak Republic</td>\n",
       "      <td>18.1</td>\n",
       "      <td>10.2</td>\n",
       "      <td>79.003810</td>\n",
       "    </tr>\n",
       "    <tr>\n",
       "      <th>22</th>\n",
       "      <td>Slovenia</td>\n",
       "      <td>6.0</td>\n",
       "      <td>4.5</td>\n",
       "      <td>92.526273</td>\n",
       "    </tr>\n",
       "    <tr>\n",
       "      <th>23</th>\n",
       "      <td>Spain</td>\n",
       "      <td>11.0</td>\n",
       "      <td>5.9</td>\n",
       "      <td>90.383083</td>\n",
       "    </tr>\n",
       "    <tr>\n",
       "      <th>24</th>\n",
       "      <td>Sweden</td>\n",
       "      <td>6.6</td>\n",
       "      <td>3.7</td>\n",
       "      <td>97.850682</td>\n",
       "    </tr>\n",
       "    <tr>\n",
       "      <th>25</th>\n",
       "      <td>Switzerland</td>\n",
       "      <td>4.3</td>\n",
       "      <td>5.2</td>\n",
       "      <td>85.240675</td>\n",
       "    </tr>\n",
       "    <tr>\n",
       "      <th>26</th>\n",
       "      <td>Turkey</td>\n",
       "      <td>10.3</td>\n",
       "      <td>29.7</td>\n",
       "      <td>51.620541</td>\n",
       "    </tr>\n",
       "    <tr>\n",
       "      <th>27</th>\n",
       "      <td>United Kingdom</td>\n",
       "      <td>4.6</td>\n",
       "      <td>6.1</td>\n",
       "      <td>99.659598</td>\n",
       "    </tr>\n",
       "    <tr>\n",
       "      <th>28</th>\n",
       "      <td>United States</td>\n",
       "      <td>5.5</td>\n",
       "      <td>8.1</td>\n",
       "      <td>62.850112</td>\n",
       "    </tr>\n",
       "  </tbody>\n",
       "</table>\n",
       "</div>"
      ],
      "text/plain": [
       "             Paises  Desemprego  Mortalidade Infantil  Número de Celulares\n",
       "0         Australia         5.5                   5.9            81.974462\n",
       "1            Canada         7.2                   6.1            47.020366\n",
       "2    Czech Republic         8.3                  26.3            25.744758\n",
       "3           Estonia         9.5                   5.5           105.694188\n",
       "4           Finland         8.8                   7.9            93.124100\n",
       "5            France        10.0                   3.9            95.444624\n",
       "6           Germany        11.0                   4.7            73.508964\n",
       "7             China         6.8                   4.9            86.425408\n",
       "8           Ireland         4.4                   5.6            94.476410\n",
       "9             Japan         4.7                   3.9            72.426306\n",
       "10      South Korea         3.6                   6.0            78.124078\n",
       "11           Latvia        10.5                  13.4            66.259606\n",
       "12        Lithuania        11.3                  10.3            88.901709\n",
       "13      Netherlands         5.1                   5.6            91.216746\n",
       "14      New Zealand         3.9                   6.7            74.207000\n",
       "15           Norway         4.5                   4.2            98.641915\n",
       "16      Philippines         9.3                  36.5            39.238945\n",
       "17           Poland        18.9                   7.8            60.500285\n",
       "18         Portugal         6.6                   5.1           100.617223\n",
       "19          Romania         8.4                  22.4            46.762484\n",
       "20        Singapore         4.8                   3.0            95.926645\n",
       "21  Slovak Republic        18.1                  10.2            79.003810\n",
       "22         Slovenia         6.0                   4.5            92.526273\n",
       "23            Spain        11.0                   5.9            90.383083\n",
       "24           Sweden         6.6                   3.7            97.850682\n",
       "25      Switzerland         4.3                   5.2            85.240675\n",
       "26           Turkey        10.3                  29.7            51.620541\n",
       "27   United Kingdom         4.6                   6.1            99.659598\n",
       "28    United States         5.5                   8.1            62.850112"
      ]
     },
     "execution_count": 20,
     "metadata": {},
     "output_type": "execute_result"
    }
   ],
   "source": [
    "Data_Total"
   ]
  },
  {
   "cell_type": "code",
   "execution_count": null,
   "metadata": {
    "collapsed": false
   },
   "outputs": [],
   "source": []
  },
  {
   "cell_type": "code",
   "execution_count": 26,
   "metadata": {
    "collapsed": false
   },
   "outputs": [
    {
     "data": {
      "image/png": "[encoded data removed]",
      "text/plain": [
       "<matplotlib.figure.Figure at 0x1b3395a9cc0>"
      ]
     },
     "metadata": {},
     "output_type": "display_data"
    }
   ],
   "source": [
    "f, ax = plt.subplots(1,2,figsize=(16,8))\n",
    "ax[0].scatter(mort, desemprego.Desemprego, alpha=0.7)  # Plot the raw data\n",
    "ax[0].set_xlabel(\"% do PIB gasto com saúde\")\n",
    "ax[0].set_ylabel(\"Expectativa de vida (em anos)\")\n",
    "\n",
    "y = desemprego.Desemprego #variavel resposta\n",
    "x = mort\n",
    "X_prime,y_hat = minimos_quadrados(x,y)\n",
    "ax[0].plot(X_prime[:, 1], y_hat, 'r', alpha=0.9) \n",
    "\n",
    "ax[1].scatter(celulares, desemprego.Desemprego, alpha=0.7)  # Plot the raw data\n",
    "ax[1].set_xlabel(\"Gasto com saúde per capita (em US$)\")\n",
    "ax[1].set_ylabel(\"Expectativa de vida (em anos)\")\n",
    "\n",
    "y = desemprego.Desemprego\n",
    "x = celulares\n",
    "X_prime,y_hat = minimos_quadrados(x,y)\n",
    "ax[1].plot(X_prime[:, 1], y_hat, 'r', alpha=0.9) \n",
    "\n",
    "plt.tight_layout(1)"
   ]
  },
  {
   "cell_type": "code",
   "execution_count": null,
   "metadata": {
    "collapsed": true
   },
   "outputs": [],
   "source": []
  }
 ],
 "metadata": {
  "anaconda-cloud": {},
  "kernelspec": {
   "display_name": "Python 3",
   "language": "python",
   "name": "python3"
  },
  "language_info": {
   "codemirror_mode": {
    "name": "ipython",
    "version": 3
   },
   "file_extension": ".py",
   "mimetype": "text/x-python",
   "name": "python",
   "nbconvert_exporter": "python",
   "pygments_lexer": "ipython3",
   "version": "3.5.1"
  }
 },
 "nbformat": 4,
 "nbformat_minor": 0
}
